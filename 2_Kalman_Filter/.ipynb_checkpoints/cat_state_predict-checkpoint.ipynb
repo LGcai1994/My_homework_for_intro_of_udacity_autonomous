{
 "cells": [
  {
   "cell_type": "code",
   "execution_count": 85,
   "metadata": {},
   "outputs": [],
   "source": [
    "import matplotlib.pyplot as plt\n",
    "import numpy as np\n",
    "\n",
    "class Car(object):\n",
    "    \n",
    "    #car constructor\n",
    "    def __init__(self,position,velocity,world):\n",
    "        #initial the state, position is [y,x] and velocity is [vy,vx]\n",
    "        self.state = [position,velocity]\n",
    "        self.world = world#world is a 2D list of values that range from 0-1\n",
    "        \n",
    "        #set car color\n",
    "        self.color = 'r'\n",
    "        \n",
    "        #initialize the path\n",
    "        self.path = []\n",
    "        self.path.append(position)\n",
    "    \n",
    "    def move(self,dt=1):\n",
    "        \n",
    "        height = len(self.world)\n",
    "        width = len(self.world[0])\n",
    "        \n",
    "        position = self.state[0]\n",
    "        velocity = self.state[1]\n",
    "        \n",
    "        #predict the new position [y,x] based on velocity [vy,vx] and time dt\n",
    "        predicted_position = [\n",
    "            (position[0] + velocity[0] * dt) % height,\n",
    "            (position[1] + velocity[1] * dt) % width\n",
    "        ]\n",
    "        \n",
    "        #update state\n",
    "        self.state = [predicted_position,velocity]\n",
    "        \n",
    "        #update path\n",
    "        self.path.append(predicted_position)\n",
    "    \n",
    "    def turn_left(self):\n",
    "        \n",
    "        velocity = self.state[1]\n",
    "        predicted_velocity = [\n",
    "            -velocity[1],\n",
    "            velocity[0]\n",
    "        ]\n",
    "        \n",
    "        self.state[1] = predicted_velocity\n",
    "        \n",
    "    def turn_right(self):\n",
    "        \n",
    "        velocity = self.state[1]\n",
    "        predicted_velocity = [\n",
    "            velocity[1],\n",
    "            -velocity[0]\n",
    "        ]\n",
    "        \n",
    "        self.state[1] = predicted_velocity\n",
    "    \n",
    "    def show_carself(self):\n",
    "        print('position[y,x]:',self.state[0],'velocity[vy,yx]:',self.state[1])"
   ]
  },
  {
   "cell_type": "code",
   "execution_count": 86,
   "metadata": {},
   "outputs": [],
   "source": [
    "height = 10\n",
    "width = 10\n",
    "world = np.zeros((height,width))\n",
    "\n",
    "initial_position = [0,0]\n",
    "velocity = [0,1]\n",
    "carla = Car(initial_position,velocity,world)"
   ]
  },
  {
   "cell_type": "code",
   "execution_count": 212,
   "metadata": {},
   "outputs": [
    {
     "name": "stdout",
     "output_type": "stream",
     "text": [
      "position[y,x]: [5, 5] velocity[vy,yx]: [1, 0]\n"
     ]
    }
   ],
   "source": [
    "carla.turn_right()\n",
    "carla.move()\n",
    "carla.show_carself()"
   ]
  }
 ],
 "metadata": {
  "kernelspec": {
   "display_name": "Python 3",
   "language": "python",
   "name": "python3"
  },
  "language_info": {
   "codemirror_mode": {
    "name": "ipython",
    "version": 3
   },
   "file_extension": ".py",
   "mimetype": "text/x-python",
   "name": "python",
   "nbconvert_exporter": "python",
   "pygments_lexer": "ipython3",
   "version": "3.7.5"
  }
 },
 "nbformat": 4,
 "nbformat_minor": 2
}
