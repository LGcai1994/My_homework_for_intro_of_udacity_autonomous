{
 "cells": [
  {
   "cell_type": "code",
   "execution_count": 4,
   "metadata": {},
   "outputs": [
    {
     "name": "stdout",
     "output_type": "stream",
     "text": [
      "[7.0, 2.0]\n",
      "[22, 8]\n"
     ]
    }
   ],
   "source": [
    "from math import *\n",
    "\n",
    "def f(mu,sigma2,x):\n",
    "    return 1/sqrt(2.*pi*sigma2) * exp(-.5 * (x-mu)**2 / sigma2)\n",
    "\n",
    "def update(mu1,sigma2_1,mu2,sigma2_2):\n",
    "    new_mu = (sigma2_2 * mu1 + sigma2_1 + mu2)/(sigma2_1 + sigma2_2)\n",
    "    new_sigma2 = 1/(1/sigma2_1 + 1/sigma2_2)\n",
    "    return [new_mu,new_sigma2]\n",
    "\n",
    "def predict(mu1,sigma2_1,mu2,sigma2_2):\n",
    "    new_mean = mu1 + mu2\n",
    "    new_sigma2 = sigma2_1 + sigma2_2\n",
    "    return [new_mean,new_sigma2]\n"
   ]
  },
  {
   "cell_type": "code",
   "execution_count": null,
   "metadata": {},
   "outputs": [],
   "source": []
  }
 ],
 "metadata": {
  "kernelspec": {
   "display_name": "Python 3",
   "language": "python",
   "name": "python3"
  },
  "language_info": {
   "codemirror_mode": {
    "name": "ipython",
    "version": 3
   },
   "file_extension": ".py",
   "mimetype": "text/x-python",
   "name": "python",
   "nbconvert_exporter": "python",
   "pygments_lexer": "ipython3",
   "version": "3.7.5"
  }
 },
 "nbformat": 4,
 "nbformat_minor": 2
}
