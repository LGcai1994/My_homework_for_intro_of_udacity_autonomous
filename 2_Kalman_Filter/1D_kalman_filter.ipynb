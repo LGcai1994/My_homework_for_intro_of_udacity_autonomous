{
 "cells": [
  {
   "cell_type": "code",
   "execution_count": 14,
   "metadata": {},
   "outputs": [
    {
     "name": "stdout",
     "output_type": "stream",
     "text": [
      "update,mu: 4.998000799680128    sigma2: 3.9984006397441023\n",
      "predict,mu: 5.998000799680128    sigma2: 5.998400639744102\n",
      "update,mu: 5.999200191953932    sigma2: 2.399744061425258\n",
      "predict,mu: 6.999200191953932    sigma2: 4.399744061425258\n",
      "update,mu: 6.999619127420922    sigma2: 2.0951800575117594\n",
      "predict,mu: 8.999619127420921    sigma2: 4.09518005751176\n",
      "update,mu: 8.999811802788143    sigma2: 2.0235152416216957\n",
      "predict,mu: 9.999811802788143    sigma2: 4.023515241621696\n",
      "update,mu: 9.999906177177365    sigma2: 2.0058615808441944\n",
      "predict,mu: 10.999906177177365    sigma2: 4.005861580844194\n"
     ]
    }
   ],
   "source": [
    "from math import *\n",
    "\n",
    "def f(mu,sigma2,x):\n",
    "    return 1/sqrt(2.*pi*sigma2) * exp(-.5 * (x-mu)**2 / sigma2)\n",
    "\n",
    "def update(mu1,sigma2_1,mu2,sigma2_2):\n",
    "    new_mu = (sigma2_2 * mu1 + sigma2_1 * mu2)/(sigma2_1 + sigma2_2)\n",
    "    new_sigma2 = 1/(1/sigma2_1 + 1/sigma2_2)\n",
    "    return [new_mu,new_sigma2]\n",
    "\n",
    "def predict(mu1,sigma2_1,mu2,sigma2_2):\n",
    "    new_mu = mu1 + mu2\n",
    "    new_sigma2 = sigma2_1 + sigma2_2\n",
    "    return [new_mu,new_sigma2]\n",
    "\n",
    "measurement = [5,6,7,9,10]\n",
    "motion = [1,1,2,1,1,]\n",
    "measurement_sig2 = 4\n",
    "motion_sig2 = 2\n",
    "mu = 0\n",
    "sig = 10000\n",
    "\n",
    "for i in range(len(measurement)):\n",
    "    mu,sig = update(mu,sig,measurement[i],measurement_sig2)\n",
    "    print('update,mu:',mu,'  ','sigma2:',sig)\n",
    "    mu,sig = predict(mu,sig,motion[i],motion_sig2)\n",
    "    print('predict,mu:',mu,'  ','sigma2:',sig)"
   ]
  },
  {
   "cell_type": "code",
   "execution_count": null,
   "metadata": {},
   "outputs": [],
   "source": []
  },
  {
   "cell_type": "code",
   "execution_count": null,
   "metadata": {},
   "outputs": [],
   "source": []
  }
 ],
 "metadata": {
  "kernelspec": {
   "display_name": "Python 3",
   "language": "python",
   "name": "python3"
  },
  "language_info": {
   "codemirror_mode": {
    "name": "ipython",
    "version": 3
   },
   "file_extension": ".py",
   "mimetype": "text/x-python",
   "name": "python",
   "nbconvert_exporter": "python",
   "pygments_lexer": "ipython3",
   "version": "3.7.5"
  }
 },
 "nbformat": 4,
 "nbformat_minor": 2
}
